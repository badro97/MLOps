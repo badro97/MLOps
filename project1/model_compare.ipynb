{
 "cells": [
  {
   "cell_type": "code",
   "execution_count": 1,
   "metadata": {},
   "outputs": [],
   "source": [
    "import mlflow\n",
    "from mlflow.models import infer_signature\n",
    "\n",
    "from sklearn import datasets\n",
    "from sklearn.linear_model import LogisticRegression\n",
    "from sklearn.metrics import accuracy_score\n",
    "from sklearn.model_selection import train_test_split\n",
    "# 추가 선형 모델 import\n",
    "from sklearn.linear_model import LinearRegression, Ridge, Lasso\n",
    "from sklearn.metrics import mean_squared_error, r2_score\n",
    "\n",
    "import pandas as pd\n",
    "import numpy as np\n",
    "\n",
    "# Iris 데이터셋 로드\n",
    "iris = datasets.load_iris()\n",
    "X = iris.data\n",
    "y = iris.target\n",
    "\n",
    "# 데이터 분할\n",
    "X_train, X_test, y_train, y_test = train_test_split(X, y, test_size=0.2, random_state=42)"
   ]
  },
  {
   "cell_type": "code",
   "execution_count": 2,
   "metadata": {},
   "outputs": [
    {
     "name": "stderr",
     "output_type": "stream",
     "text": [
      "2025/03/09 18:59:44 INFO mlflow.tracking.fluent: Experiment with name 'Modle Compare' does not exist. Creating a new experiment.\n"
     ]
    },
    {
     "data": {
      "text/plain": [
       "<Experiment: artifact_location='mlflow-artifacts:/148841437545004186', creation_time=1741514384397, experiment_id='148841437545004186', last_update_time=1741514384397, lifecycle_stage='active', name='Modle Compare', tags={}>"
      ]
     },
     "execution_count": 2,
     "metadata": {},
     "output_type": "execute_result"
    }
   ],
   "source": [
    "mlflow.set_tracking_uri(uri=\"http://127.0.0.1:5000\")\n",
    "\n",
    "## create a new MLflow experiment\n",
    "mlflow.set_experiment(\"Modle Compare\")"
   ]
  },
  {
   "cell_type": "markdown",
   "metadata": {},
   "source": [
    "### LogisticRegression"
   ]
  },
  {
   "cell_type": "code",
   "execution_count": 10,
   "metadata": {},
   "outputs": [
    {
     "name": "stdout",
     "output_type": "stream",
     "text": [
      "LogisticRegression 정확도: 1.0000\n",
      "🏃 View run logistic_regression at: http://127.0.0.1:5000/#/experiments/148841437545004186/runs/10b5cafb0228480f86803989c3dd8966\n",
      "🧪 View experiment at: http://127.0.0.1:5000/#/experiments/148841437545004186\n"
     ]
    }
   ],
   "source": [
    "\n",
    "# 1. LogisticRegression 모델 학습 및 평가\n",
    "with mlflow.start_run(run_name=\"logistic_regression\"):\n",
    "    lr_model = LogisticRegression(max_iter=200)\n",
    "    lr_model.fit(X_train, y_train)\n",
    "    \n",
    "    # 예측\n",
    "    y_pred = lr_model.predict(X_test)\n",
    "    \n",
    "    # 정확도 계산\n",
    "    accuracy = accuracy_score(y_test, y_pred)\n",
    "    print(f\"LogisticRegression 정확도: {accuracy:.4f}\")\n",
    "    \n",
    "    # MLflow에 메트릭 기록\n",
    "    mlflow.log_param(\"model_type\", \"LogisticRegression\")\n",
    "    mlflow.log_param(\"max_iter\", 200)\n",
    "    mlflow.log_metric(\"accuracy\", accuracy)\n",
    "    \n",
    "    # 모델 서명 추론 및 모델 저장\n",
    "    signature = infer_signature(X_test, y_pred)\n",
    "    LogisticRegression_info = mlflow.sklearn.log_model(lr_model, \"logistic_regression_model\", signature=signature)\n"
   ]
  },
  {
   "cell_type": "markdown",
   "metadata": {},
   "source": [
    "### LinearRegression"
   ]
  },
  {
   "cell_type": "code",
   "execution_count": 11,
   "metadata": {},
   "outputs": [
    {
     "name": "stdout",
     "output_type": "stream",
     "text": [
      "LinearRegression 정확도: 1.0000\n",
      "LinearRegression MSE: 0.0371\n",
      "LinearRegression R²: 0.9469\n",
      "🏃 View run linear_regression at: http://127.0.0.1:5000/#/experiments/148841437545004186/runs/8a20f99dd2f24e4e910f73bed42e8353\n",
      "🧪 View experiment at: http://127.0.0.1:5000/#/experiments/148841437545004186\n"
     ]
    }
   ],
   "source": [
    "# 2. LinearRegression 모델 학습 및 평가\n",
    "with mlflow.start_run(run_name=\"linear_regression\"):\n",
    "    linear_model = LinearRegression()\n",
    "    linear_model.fit(X_train, y_train)\n",
    "    \n",
    "    # 예측\n",
    "    y_pred_linear = linear_model.predict(X_test)\n",
    "    # 반올림하여 분류 결과로 변환\n",
    "    y_pred_linear_rounded = np.round(y_pred_linear).astype(int)\n",
    "    # 범위를 벗어나는 값 처리\n",
    "    y_pred_linear_rounded = np.clip(y_pred_linear_rounded, 0, 2)\n",
    "    \n",
    "    # 평가 지표 계산\n",
    "    accuracy_linear = accuracy_score(y_test, y_pred_linear_rounded)\n",
    "    mse = mean_squared_error(y_test, y_pred_linear)\n",
    "    r2 = r2_score(y_test, y_pred_linear)\n",
    "    \n",
    "    print(f\"LinearRegression 정확도: {accuracy_linear:.4f}\")\n",
    "    print(f\"LinearRegression MSE: {mse:.4f}\")\n",
    "    print(f\"LinearRegression R²: {r2:.4f}\")\n",
    "    \n",
    "    # MLflow에 메트릭 기록\n",
    "    mlflow.log_param(\"model_type\", \"LinearRegression\")\n",
    "    mlflow.log_metric(\"accuracy\", accuracy_linear)\n",
    "    mlflow.log_metric(\"mse\", mse)\n",
    "    mlflow.log_metric(\"r2\", r2)\n",
    "    \n",
    "    # 모델 서명 추론 및 모델 저장\n",
    "    signature = infer_signature(X_test, y_pred_linear)\n",
    "    LinearRegression_info = mlflow.sklearn.log_model(linear_model, \"linear_regression_model\", signature=signature)\n"
   ]
  },
  {
   "cell_type": "markdown",
   "metadata": {},
   "source": [
    "### Ridge"
   ]
  },
  {
   "cell_type": "code",
   "execution_count": 12,
   "metadata": {},
   "outputs": [
    {
     "name": "stdout",
     "output_type": "stream",
     "text": [
      "Ridge 정확도: 1.0000\n",
      "Ridge MSE: 0.0391\n",
      "Ridge R²: 0.9441\n",
      "🏃 View run ridge_regression at: http://127.0.0.1:5000/#/experiments/148841437545004186/runs/bfe31efc0d4042d78860104517185a57\n",
      "🧪 View experiment at: http://127.0.0.1:5000/#/experiments/148841437545004186\n"
     ]
    }
   ],
   "source": [
    "# 3. Ridge 모델 학습 및 평가\n",
    "with mlflow.start_run(run_name=\"ridge_regression\"):\n",
    "    ridge_model = Ridge(alpha=1.0)\n",
    "    ridge_model.fit(X_train, y_train)\n",
    "    \n",
    "    # 예측\n",
    "    y_pred_ridge = ridge_model.predict(X_test)\n",
    "    y_pred_ridge_rounded = np.round(y_pred_ridge).astype(int)\n",
    "    y_pred_ridge_rounded = np.clip(y_pred_ridge_rounded, 0, 2)\n",
    "    \n",
    "    # 평가 지표 계산\n",
    "    accuracy_ridge = accuracy_score(y_test, y_pred_ridge_rounded)\n",
    "    mse_ridge = mean_squared_error(y_test, y_pred_ridge)\n",
    "    r2_ridge = r2_score(y_test, y_pred_ridge)\n",
    "    \n",
    "    print(f\"Ridge 정확도: {accuracy_ridge:.4f}\")\n",
    "    print(f\"Ridge MSE: {mse_ridge:.4f}\")\n",
    "    print(f\"Ridge R²: {r2_ridge:.4f}\")\n",
    "    \n",
    "    # MLflow에 메트릭 기록\n",
    "    mlflow.log_param(\"model_type\", \"Ridge\")\n",
    "    mlflow.log_param(\"alpha\", 1.0)\n",
    "    mlflow.log_metric(\"accuracy\", accuracy_ridge)\n",
    "    mlflow.log_metric(\"mse\", mse_ridge)\n",
    "    mlflow.log_metric(\"r2\", r2_ridge)\n",
    "    \n",
    "    # 모델 서명 추론 및 모델 저장\n",
    "    signature = infer_signature(X_test, y_pred_ridge)\n",
    "    Ridge_info = mlflow.sklearn.log_model(ridge_model, \"ridge_model\", signature=signature)\n",
    "\n"
   ]
  },
  {
   "cell_type": "markdown",
   "metadata": {},
   "source": [
    "### Lasso"
   ]
  },
  {
   "cell_type": "code",
   "execution_count": 13,
   "metadata": {},
   "outputs": [
    {
     "name": "stdout",
     "output_type": "stream",
     "text": [
      "Lasso 정확도: 0.9667\n",
      "Lasso MSE: 0.0668\n",
      "Lasso R²: 0.9045\n",
      "🏃 View run lasso_regression at: http://127.0.0.1:5000/#/experiments/148841437545004186/runs/71a6c3b392fb4fe0ad1fdf91cf7f2ed6\n",
      "🧪 View experiment at: http://127.0.0.1:5000/#/experiments/148841437545004186\n"
     ]
    }
   ],
   "source": [
    "# 4. Lasso 모델 학습 및 평가\n",
    "with mlflow.start_run(run_name=\"lasso_regression\"):\n",
    "    lasso_model = Lasso(alpha=0.1)\n",
    "    lasso_model.fit(X_train, y_train)\n",
    "    \n",
    "    # 예측\n",
    "    y_pred_lasso = lasso_model.predict(X_test)\n",
    "    y_pred_lasso_rounded = np.round(y_pred_lasso).astype(int)\n",
    "    y_pred_lasso_rounded = np.clip(y_pred_lasso_rounded, 0, 2)\n",
    "    \n",
    "    # 평가 지표 계산\n",
    "    accuracy_lasso = accuracy_score(y_test, y_pred_lasso_rounded)\n",
    "    mse_lasso = mean_squared_error(y_test, y_pred_lasso)\n",
    "    r2_lasso = r2_score(y_test, y_pred_lasso)\n",
    "    \n",
    "    print(f\"Lasso 정확도: {accuracy_lasso:.4f}\")\n",
    "    print(f\"Lasso MSE: {mse_lasso:.4f}\")\n",
    "    print(f\"Lasso R²: {r2_lasso:.4f}\")\n",
    "    \n",
    "    # MLflow에 메트릭 기록\n",
    "    mlflow.log_param(\"model_type\", \"Lasso\")\n",
    "    mlflow.log_param(\"alpha\", 0.1)\n",
    "    mlflow.log_metric(\"accuracy\", accuracy_lasso)\n",
    "    mlflow.log_metric(\"mse\", mse_lasso)\n",
    "    mlflow.log_metric(\"r2\", r2_lasso)\n",
    "    \n",
    "    # 모델 서명 추론 및 모델 저장\n",
    "    signature = infer_signature(X_test, y_pred_lasso)\n",
    "    Lasso_info = mlflow.sklearn.log_model(lasso_model, \"lasso_model\", signature=signature)\n"
   ]
  },
  {
   "cell_type": "code",
   "execution_count": 7,
   "metadata": {},
   "outputs": [
    {
     "name": "stdout",
     "output_type": "stream",
     "text": [
      "\n",
      "모델 정확도 비교:\n",
      "                Model  Accuracy\n",
      "0  LogisticRegression  1.000000\n",
      "1    LinearRegression  1.000000\n",
      "2               Ridge  1.000000\n",
      "3               Lasso  0.966667\n"
     ]
    }
   ],
   "source": [
    "# 모델 성능 비교\n",
    "models = [\"LogisticRegression\", \"LinearRegression\", \"Ridge\", \"Lasso\"]\n",
    "accuracies = [accuracy, accuracy_linear, accuracy_ridge, accuracy_lasso]\n",
    "\n",
    "comparison_df = pd.DataFrame({\n",
    "    \"Model\": models,\n",
    "    \"Accuracy\": accuracies\n",
    "})\n",
    "print(\"\\n모델 정확도 비교:\")\n",
    "print(comparison_df.sort_values(\"Accuracy\", ascending=False))"
   ]
  }
 ],
 "metadata": {
  "kernelspec": {
   "display_name": "mlops",
   "language": "python",
   "name": "python3"
  },
  "language_info": {
   "codemirror_mode": {
    "name": "ipython",
    "version": 3
   },
   "file_extension": ".py",
   "mimetype": "text/x-python",
   "name": "python",
   "nbconvert_exporter": "python",
   "pygments_lexer": "ipython3",
   "version": "3.10.16"
  }
 },
 "nbformat": 4,
 "nbformat_minor": 2
}
